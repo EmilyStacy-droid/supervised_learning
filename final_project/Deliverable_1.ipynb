{
 "cells": [
  {
   "cell_type": "markdown",
   "metadata": {},
   "source": [
    "Project: Bible-Related Keyword Extraction Model\n",
    "Data source: https://github.com/christos-c/bible-corpus (providing Bible in different languages)\n",
    "Objective:\n",
    "    (1) Develop a supervised learning model to identify and extract words relevant to the Bible.\n",
    "    (2) Create highlights or keywords from sermons or other text related to biblical content.\n",
    "Steps:\n",
    "    (1) Data Cleansing and Parsing: \n",
    "        i.Gather relevant text data (sermons and biblical texts)\n",
    "        ii.Clean and preprocess the data (remove noise, special characters)\n",
    "        iii.Tokenize the text into words or subword units\n",
    "    (2) Label Assignment: Assign each word a binary label, 0: irrelevant to the Bible, 1: relevant to the Bible\n",
    "    (3) Model Training: Transformer and SVM\n",
    "    (4) Keyword extraction\n",
    "Outcome: The resulting model can automatically identify and highlight Bible-related terms in sermons or other religious content\n",
    "\n",
    "\n",
    "\n"
   ]
  },
  {
   "cell_type": "markdown",
   "metadata": {},
   "source": [
    "EDA Step 1: Parse the original xml file: the Bible in English and save the texts into a txt file"
   ]
  },
  {
   "cell_type": "code",
   "execution_count": null,
   "metadata": {},
   "outputs": [],
   "source": [
    "import xml.etree.ElementTree as ET\n",
    "import re\n",
    "tree = ET.parse('English.xml')\n",
    "root = tree.getroot()\n",
    "texts = []\n",
    "all_punctuation = \"!\\\"#$%&'()*+,./:;<=>?@[\\\\]^_`{|}~\"\n",
    "for seg in root.findall(\".//seg\"):\n",
    "    text = seg.text\n",
    "    text = text.replace('\\n','').replace('\\t','')\n",
    "    text =  re.sub(rf\"[{all_punctuation}]\", '', text)\n",
    "    texts.append(text)\n",
    "\n",
    "with open('bible_eng.txt', 'w+') as f:\n",
    "    f.writelines(texts)   "
   ]
  },
  {
   "cell_type": "markdown",
   "metadata": {},
   "source": [
    "EDA Step 2: Categorize the data with Named Entity Recognition\n",
    "1. tokenize each word with AutoTokenizer\n",
    "2. categorize word tokens with TFAutoModelForTokenClassification\n",
    "3. Add labels 0 and 1 (potential notes) with tf\n"
   ]
  },
  {
   "cell_type": "code",
   "execution_count": null,
   "metadata": {},
   "outputs": [],
   "source": [
    "import pandas as pd\n",
    "from transformers import TFAutoModelForTokenClassification, AutoTokenizer\n",
    "import tensorflow as tf\n",
    "\n",
    "model_name = \"dbmdz/bert-large-cased-finetuned-conll03-english\"\n",
    "model = TFAutoModelForTokenClassification.from_pretrained(model_name)\n",
    "tokenizer = AutoTokenizer.from_pretrained(model_name)\n",
    "\n",
    "# Function to process text batch by batch\n",
    "def process_batch(batch):\n",
    "    all_tokens = []\n",
    "    all_labels = []\n",
    "    all_notes = []\n",
    "    \n",
    "    # Tokenize the batch into words\n",
    "    words = batch.split()\n",
    "    \n",
    "    # Encode the words using the tokenizer\n",
    "    tokens = tokenizer(words, is_split_into_words=True, return_tensors=\"tf\", truncation=True, padding=True)\n",
    "    \n",
    "    # Get model predictions\n",
    "    outputs = model(tokens)\n",
    "    predictions = tf.argmax(outputs.logits, axis=-1)\n",
    "    \n",
    "    # Convert input_ids to tokens and align labels\n",
    "    tokens = tokenizer.convert_ids_to_tokens(tokens[\"input_ids\"][0])\n",
    "    token_labels = [model.config.id2label[prediction.numpy()] for prediction in predictions[0]]\n",
    "    \n",
    "    aligned_tokens = []\n",
    "    aligned_labels = []\n",
    "    notes_labels = []\n",
    "    \n",
    "    for token, label in zip(tokens, token_labels):\n",
    "        if token not in [\"[CLS]\", \"[SEP]\", \"[PAD]\"]:\n",
    "            if token.startswith(\"##\"):\n",
    "                # Append to the last token if it is a subword token\n",
    "                aligned_tokens[-1] = aligned_tokens[-1] + token[2:]\n",
    "            else:\n",
    "                aligned_tokens.append(token)\n",
    "                aligned_labels.append(label)\n",
    "                if label in {'B-PER', 'I-PER', 'B-ORG', 'I-ORG', 'B-LOC', 'I-LOC', 'B-MISC', 'I-MISC'}:\n",
    "                    notes_labels.append(1)  # Potential note\n",
    "                else:\n",
    "                    notes_labels.append(0)  # Not a note\n",
    "    \n",
    "    all_tokens.extend(aligned_tokens)\n",
    "    all_labels.extend(aligned_labels)\n",
    "    all_notes.extend(notes_labels)\n",
    "    \n",
    "    return all_tokens, all_labels, all_notes\n",
    "\n",
    "# Initialize lists to store the tokens, labels, and notes\n",
    "all_tokens = []\n",
    "all_labels = []\n",
    "all_notes = []\n",
    "\n",
    "# Read the text file line by line to handle large files\n",
    "max_token_length = 512  # Maximum token length for BERT models\n",
    "current_batch = \"\"\n",
    "\n",
    "with open('bible_eng_2.txt', 'r', encoding='utf-8') as file:\n",
    "    for line in file:\n",
    "        current_batch += line.strip() + \" \"\n",
    "        \n",
    "        # Check if the current batch exceeds the maximum token length\n",
    "        if len(tokenizer(current_batch.split(), is_split_into_words=True)[\"input_ids\"]) > max_token_length:\n",
    "            tokens, labels, notes = process_batch(current_batch)\n",
    "            all_tokens.extend(tokens)\n",
    "            all_labels.extend(labels)\n",
    "            all_notes.extend(notes)\n",
    "            current_batch = \"\"\n",
    "    \n",
    "    # Process any remaining lines in the current batch\n",
    "    if current_batch:\n",
    "        tokens, labels, notes = process_batch(current_batch)\n",
    "        all_tokens.extend(tokens)\n",
    "        all_labels.extend(labels)\n",
    "        all_notes.extend(notes)\n",
    "\n",
    "# Create a DataFrame and save to CSV\n",
    "df = pd.DataFrame({'Token': all_tokens, 'Label': all_labels, 'Notes': all_notes})\n",
    "df.to_csv('bible_tokens.csv', index=False)\n"
   ]
  },
  {
   "cell_type": "markdown",
   "metadata": {},
   "source": [
    "EDA step 3: Modify the labels value based on the buisness needs"
   ]
  },
  {
   "cell_type": "code",
   "execution_count": 1,
   "metadata": {},
   "outputs": [],
   "source": [
    "import pandas as pd\n",
    "df = pd.read_csv('bible_tokens.csv')\n",
    "tokens_to_change = {'gospel', 'saint'}\n",
    "df['Notes'] = df.apply(lambda row: 1 if row['Token'] in tokens_to_change else row['Notes'], axis=1)\n",
    "df.to_csv('modified_bible_tokens.csv', index=False)"
   ]
  },
  {
   "cell_type": "markdown",
   "metadata": {},
   "source": [
    "Model training: SVC\n",
    "With classifier 0 (not highlighted) and 1 (highlighted) from the bible text, use SVM to train a model that can extract meaningful words related to Bible from speeches."
   ]
  },
  {
   "cell_type": "code",
   "execution_count": null,
   "metadata": {},
   "outputs": [],
   "source": [
    "import pandas as pd\n",
    "from sklearn.feature_extraction.text import TfidfVectorizer\n",
    "from sklearn.model_selection import train_test_split\n",
    "from sklearn.svm import SVC\n",
    "import re\n",
    "import string\n",
    "\n",
    "# Load the CSV document with Bible related tokens\n",
    "bible_words_df = pd.read_csv('modified_bible_tokens.csv')\n",
    "\n",
    "# Load the sermons text\n",
    "with open('sermons.txt', 'r', encoding='utf-8') as file:\n",
    "    large_document = file.read()\n",
    "\n",
    "# Extract the tokens marked as 1 from the bible token document\n",
    "marked_words = bible_words_df[bible_words_df['Marker'] == 1]['Token'].tolist()\n",
    "marked_words = list(set(marked_words)) \n",
    "\n",
    "# Segment the sermons file to be paragraphs with length of 300\n",
    "def segment_document(text, segment_size=300):\n",
    "    words = text.split()\n",
    "    segments = [' '.join(words[i:i+segment_size]) for i in range(0, len(words), segment_size)]\n",
    "    return segments\n",
    "\n",
    "segments = segment_document(large_document)\n",
    "\n",
    "# Use TfidfVectorizer to calculate TF-IDF \n",
    "vectorizer = TfidfVectorizer(vocabulary=marked_words)\n",
    "X = vectorizer.fit_transform(segments)\n",
    "feature_names = vectorizer.get_feature_names_out()\n",
    "\n",
    "# Create labels\n",
    "y = [(1 if any(word in segment for word in marked_words) else 0) for segment in segments]\n",
    "\n",
    "# Check labels \n",
    "print(f\"Class distribution: {pd.Series(y).value_counts()}\")\n",
    "\n",
    "# If this paragraph only has either 1 or 0, create dummy words\n",
    "if len(set(y)) < 2:\n",
    "    dummy_segment_with_keywords = ' '.join(marked_words[:10])  \n",
    "    dummy_segment_without_keywords = ' '.join(['dummyword']*10)  \n",
    "    segments.extend([dummy_segment_with_keywords, dummy_segment_without_keywords])\n",
    "    y.extend([1, 0])\n",
    "\n",
    "# Create train and test data\n",
    "X = vectorizer.fit_transform(segments)\n",
    "X_train, X_test, y_train, y_test = train_test_split(X, y, test_size=0.2, random_state=42)\n",
    "\n",
    "# Train SVC\n",
    "model = SVC(kernel='sigmoid', degree=5)\n",
    "model.fit(X_train, y_train)\n",
    "\n",
    "# Predict on all paragraphs\n",
    "predictions = model.predict(X)\n",
    "\n",
    "# Only extract one markable word in each paragraph\n",
    "notes = []\n",
    "for segment, prediction in zip(segments, predictions):\n",
    "    if prediction == 1 and \"dummyword\" not in segment.lower():\n",
    "        sentences = re.split(r'(?<!\\w\\.\\w.)(?<![A-Z][a-z]\\.)(?<=\\.|\\?)\\s', segment)\n",
    "        for sentence in sentences:\n",
    "            if any(word.lower() in sentence.lower() for word in marked_words):\n",
    "                words = sentence.split()\n",
    "                for i, word in enumerate(words):\n",
    "                    if word.lower() in marked_words:\n",
    "                        start = max(0, i - 1)\n",
    "                        end = min(len(words), i + 2)\n",
    "                        context_words = words[start:end]\n",
    "                        notes.append(' '.join(context_words))\n",
    "                        break  \n",
    "\n",
    "with open('extracted_notes.txt', 'w', encoding='utf-8') as file:\n",
    "    for note in notes:\n",
    "        file.write(note + '\\n')\n",
    "\n",
    "\n"
   ]
  },
  {
   "cell_type": "markdown",
   "metadata": {},
   "source": [
    "Clean up the notes. Remove those that are marked as 0 in bible_tokens and repetitions"
   ]
  },
  {
   "cell_type": "code",
   "execution_count": 8,
   "metadata": {},
   "outputs": [
    {
     "name": "stdout",
     "output_type": "stream",
     "text": [
      "['about the glory\\n', 'heard of it,\\n', 'day of the\\n', 'All of\\n', 'The images\\n', 'The statistics\\n', 'tons of plastic\\n', 'in the oceans\\n', 'species of marine\\n', 'The statistics\\n', 'to the reality\\n', 'on the One\\n', 'Gove, the\\n', 'save the planet\\n', 'stewards of it\\n', 'create the world\\n', 'The answer\\n', 'much of our\\n', 'has the greatest\\n', 'itself; the created\\n', 'clearly the sky\\n', 'clearly the sky\\n', 'Whatever the season\\n', 'The language\\n', 'when the apostle\\n', 'evidence of his\\n', 'created the world\\n', 'The Bible\\n', 'account of creation:\\n', 'in the 6th-C\\n', 'created the world\\n', 'sort of ‘counter-claim’:\\n', 'in the style\\n', 'create the world\\n', 'But the purpose\\n', 'to the greatness\\n', 'part of Scripture\\n', 'to the rest\\n', 'with the rest\\n', 'says of human\\n', 'within the created\\n', 'expect the people\\n', 'not the centre\\n', 'All the\\n', 'not all about\\n', 'all about\\n', 'is all about\\n', 'on the fact\\n', 'is the oldest\\n', 'is! The oldest\\n', 'The Biblical\\n', 'at the same\\n', 'follow the very\\n', 'creation - but\\n', 'rape the resources\\n', 'bottle of water\\n', 'for the world\\n', '“Some of you\\n', 'which the writer\\n', 'Up the rubbish\\n', 'any of you\\n', 'Gove, the Environment\\n', 'with the organizers\\n', 'with the politicians\\n', 'glorify the Creator\\n', 'to the challenge.\\n', 'king of the\\n', 'over the water\\n', 'angels of the\\n', 'breath of the\\n', 'and the saints\\n', 'in the Calendar\\n', 'in the church\\n', 'at the beginning\\n', 'because of two\\n', 'us the blueprint\\n', 'on the key\\n', 'understand the need\\n', 'vision, the people\\n', 'vision of God,\\n', 'vision of God,\\n', 'vision of God,\\n', 'vision of God\\n', 'full of faith.\\n', 'know the story\\n', 'out of walking\\n', 'in the wheelbarrow\\n', 'part of it.\\n', 'that’s the difference:\\n', 'not the same\\n', 'is all about\\n', 'out of Abram’s\\n', 'What’s the first\\n', 'vision of him,\\n', 'because the nature\\n', 'And of course,\\n', 'front of the\\n', 'inside of him\\n', 'to the land\\n', 'sort of road-map\\n', 'all… The Bible\\n', 'change the metaphor.\\n', 'in the right\\n', 'off the road\\n', 'to the land\\n', 'for the journey\\n', 'attitude of worship.\\n', 'to the Lord.\\n', 'In all his\\n', 'in the busyness\\n', 'is of paramount\\n', 'in the middle\\n', 'and the launch\\n', 'hitting the next\\n', 'vision of God.\\n', 'worshipping the God\\n', 'remembrance of Me.”\\n', 'The text\\n', 'at the door\\n', 'by the blood\\n', 'to the ear,\\n', 'to the death?\\n', 'fault of all\\n', 'The Object\\n', 'is the very\\n', 'to the conscience\\n', 'forgetful of Jesus?\\n', 'unmindful of Him\\n', 'upon the Cross.\\n', 'is the incessant\\n', 'suffers the Rose\\n', 'The cause\\n', 'us the old\\n', 'forget the name\\n', 'All He\\n', 'contemplate the death\\n', 'in the heart,\\n', 'wells of poisonous\\n', 'cave of unclean\\n', 'this the sole\\n', 'that the nearness\\n', 'The sun\\n', 'worm of the\\n', 'handful of golden\\n', 'than the beatific\\n', 'in the sunshine\\n', 'then, the cause\\n', 'remembrance of Me,”\\n', 'first of all,\\n', 'upon the advantages\\n', 'Thirdly the gracious\\n', 'First of all,\\n', 'election–“Chosen of God\\n', 'called of God\\n', 'and all the\\n', 'with the most\\n', 'in the state-room\\n', 'students of all\\n', 'with the life\\n', 'For the text\\n', 'temple of the\\n', 'was the peculiar\\n', 'that of any\\n', 'trod the journeys\\n', 'full of loving\\n', 'remember the wondrous\\n', 'picture the sweet\\n', 'remember the visible\\n', 'even the Apostle\\n', 'The natural\\n', 'after the flesh,\\n', 'any of those\\n', 'behold the Lord,\\n', 'into the waters\\n', 'Surely the conscious\\n', 'consecrate the tomb\\n', 'in the wilderness,\\n', 'thought of that\\n', 'in the extremity\\n', 'in the form\\n', 'speak the word\\n', 'fight the Tempter!\\n', 'combat–when the champion\\n', 'upon the spectacle,\\n', 'concentrated all his\\n', 'overthrow the Seed\\n', 'In the wrestling\\n', 'Lamb of God!\\n', 'for all and\\n', 'was the death\\n', 'passed the streets.\\n', 'heard the hiss\\n', 'with the ways\\n', 'Son of God,\\n', 'think of those\\n', 'full of olives.\\n', 'if the Spirit\\n', 'runs the brook\\n', 'see the olive\\n', 'at the foot\\n', 'drops of blood!\\n', 'drops of blood–do\\n', 'not the blood\\n', 'drops of blood!\\n', 'is the last\\n', 'deeds of mercy?\\n', 'drop of blood\\n', 'behold the “Man\\n', 'The shame,\\n', 'picture the King\\n', 'not the crown\\n', 'and the white\\n', 'Son of Man!\\n', '“Behold the man.”\\n', 'Think of the\\n', 'Think of the\\n', 'Remember the broiling\\n', 'Think of the\\n', 'is the Object\\n', 'for the love\\n', 'not the Pearl\\n', 'some of you\\n', 'not of you\\n', 'you of some\\n', 'remember the seat\\n', 'spoke the whispers\\n', 'scores of places\\n', 'remembrance of Christ–in\\n', 'Remember all these\\n', '“Bless the Lord,\\n', 'upon the blessed\\n', 'for the creature’s\\n', 'The Christian\\n', 'The new-born\\n', 'resist the matchless\\n', 'charms of Jesus\\n', 'adore the prince\\n', 'observe the advantages\\n', 'remembrance of Jesus\\n', 'is the matter\\n', 'sense of guilt.\\n', 'reading the Bible\\n', 'paid the mighty\\n', 'Look, the man\\n', 'sense of sin\\n', 'is of no\\n', 'remember the words\\n', 'Think of Him,\\n', 'what the man\\n', 'for the love\\n', 'up the loins\\n', 'into the several\\n', 'season of terrific\\n', 'upon the mighty\\n', 'is, the poor\\n', 'wave, all toss\\n', 'The winds\\n', 'takes the ship\\n', 'How the mariners\\n', 'upon the waters\\n', 'Let the poor\\n', 'The winds\\n', 'weather the storm\\n', 'name of Christ!\\n', 'in the bitterness\\n', 'Instead of feeling\\n', 'know the place\\n', 'The curtains\\n', 'around the bed\\n', 'picture of yourself–those\\n', 'in the bed–see\\n', 'are all around,\\n', 'represses the emotion.\\n', 'sigh! The soul\\n', 'The body\\n', 'throne of judgments.\\n', 'beheld the Throne\\n', 'to the life.\\n', 'in the midst\\n', 'me! The kind\\n', 'one of the\\n', 'at the third\\n', 'that of a\\n', 'than all our\\n', 'Behold the whole\\n', 'emblems of the\\n', 'The power\\n', 'Here the eye,\\n', 'The bread\\n', 'The wine\\n', 'thus the senses\\n', 'Again–much of the\\n', 'simple the ceremony\\n', 'burden the memory–here\\n', 'at all who\\n', 'again, the mighty\\n', 'out, the pressed\\n', 'does the blood\\n', 'does the blood\\n', 'help of remembrance\\n', 'Like the little\\n', 'Remember the hand\\n', 'ask the assistance\\n', 'before the Lord’s\\n', 'not the Ordinance\\n', 'kind of preparation.\\n', 'for the Lord’s\\n', 'on the Sabbath\\n', 'some of you\\n', 'For of all\\n', 'heard of some\\n', 'at the same\\n', 'from the veins\\n', 'for the sake\\n', 'among the damned\\n', 'is the remembrance\\n', 'remembrance of Me.”\\n', 'into the court\\n', 'remembrance of Me.”\\n', 'remembrance of Me.”\\n', 'remembrance of Me.”\\n', 'Some of you\\n', 'remembrance of Me.’\\n', 'before the Church,\\n', 'this all your\\n', 'were the full\\n', 'this all your\\n', 'remembrance of Me,”\\n', 'lover of Jesus\\n', 'yourselves the privilege\\n', 'with the church.\\n', 'neglect of this\\n', 'speak of your\\n', 'that the ordinance\\n', 'is the ordinance\\n', 'piece of bread?\\n', 'drop of wine?\\n', 'is the blood\\n', 'is the merit\\n', 'is the purchase\\n', 'Sinner, the way\\n', 'in the next\\n', 'Son of God,\\n', 'each of us,\\n', 'answered the man\\n', 'be the means\\n', 'The holy\\n', 'Without the godly\\n', 'In the city\\n', 'in the court.\\n', 'The king\\n', 'in the ways\\n', 'The people\\n', 'forsaken the God\\n', 'Therefore the Lord\\n', 'curse of Ebal\\n', 'extremity the one\\n', 'The one\\n', 'sake the Lord\\n', 'picture the joy\\n', 'Prophet of the\\n', 'All his\\n', 'sent of God\\n', 'Surely the monarch’s\\n', 'to the full.”\\n', 'any of the\\n', 'chosen the great\\n', 'to the Prophet,\\n', 'the fact\\n', 'seen the marvelous\\n', 'seen the bands\\n', 'knew the story\\n', 'At all events\\n', 'in the face\\n', 'by the mouth\\n', 'in the streets\\n', 'to the people.\\n', 'saw the prophecy\\n', 'little of this\\n', 'upon the sin\\n', 'first, the SIN.\\n', 'doubted the promise\\n', 'took the form\\n', 'within the range\\n', 'than the moon\\n', 'say of the\\n', 'true of Satan’s\\n', 'angel of light.\\n', 'is the devil\\n', 'in the shape\\n', 'under the shadows\\n', 'in the next\\n', 'unmindful of His\\n', 'net of difficulties–and\\n', 'rid of our\\n', 'form of unbelief\\n', 'But the most\\n', 'are the ripe\\n', 'are the most\\n', 'become of full\\n', 'is–for the least\\n', 'in the world\\n', 'make the articles\\n', 'circle of friends\\n', 'in the presence\\n', 'in the Bible,\\n', 'against all man’s\\n', 'on the part\\n', 'in the Scriptures\\n', 'doubt the word\\n', 'to the Divinity,\\n', 'not the very\\n', 'son of Adam\\n', 'roll all sins\\n', 'is the monarch\\n', 'The dregs\\n', 'is the A1\\n', 'show the extremely\\n', 'first the sin\\n', 'that the Fall\\n', 'that the devil\\n', 'eat of every\\n', 'touched the fruit\\n', 'been the prolific\\n', 'capable of the\\n', 'hardened the heart\\n', 'sharpened the knife\\n', 'to the halter\\n', 'that the man\\n', 'is the leader\\n', 'said of Jeroboam\\n', 'said of unbelief\\n', 'is the egg\\n', 'in the Christian\\n', 'not the same\\n', 'upon the scapegoat’s\\n', 'is of the\\n', 'than the unbelief\\n', 'a saint to\\n', 'is the root\\n', 'fulfill the precept\\n', '“Jehovah-Jireh the Lord\\n', 'out of the\\n', 'faith, the reins\\n', 'Like the chariot\\n', 'is the mother\\n', 'is the parent\\n', 'under the thunders\\n', 'in the pulpit\\n', 'unbelief of that\\n', 'front of the\\n', 'with the ungodly\\n', 'The devil\\n', 'once the Holy\\n', 'manner of men\\n', 'rid of unbelief,\\n', 'hear the wooing\\n', 'about the sufferings\\n', 'harden All the\\n', 'Methinks the tragedy\\n', 'see all you\\n', 'is the reason?\\n', 'and the Cross.\\n', 'and the Savior’s\\n', 'is the sin\\n', 'for the performance\\n', 'On the contrary,\\n', 'like the Dowries\\n', 'among the Indians,\\n', 'Some of the\\n', 'strips of meat\\n', 'men–and the more\\n', 'and of good\\n', 'All these\\n', 'is the fly\\n', 'is the poison\\n', 'faith all the\\n', 'story of Christ’s\\n', 'in Mount Tabor,\\n', 'So the father\\n', 'did the disciples\\n', 'By-and-by the diseased\\n', 'The demoniac\\n', 'The devil\\n', 'to the pit!”\\n', 'The lips\\n', 'grain of mustard\\n', 'upon the billows.\\n', 'across the Atlantic\\n', 'on the top\\n', 'I, all our\\n', 'The moment\\n', 'Thousands of prayers\\n', 'guilty of infanticide.\\n', 'song of praise\\n', 'in the heart\\n', 'Master’s Gospel boldly–but\\n', 'is the Samsonian\\n', 'to the Scriptures!\\n', 'fair the vision!\\n', 'When the flood\\n', 'See the unbelievers\\n', 'with the enormous\\n', 'Heaven is\\n', 'that of old\\n', 'and the deep\\n', 'round the waist–stands\\n', 'The water\\n', 'from the ark\\n', 'in the palaces\\n', 'brought the flood\\n', 'from the flood.\\n', 'unbelief the rest\\n', 'out of Canaan?\\n', 'struck the rock\\n', 'therefore the punishment\\n', 'dwelt–to the vast\\n', 'Sons of the\\n', 'in the sun–there\\n', 'are all these?\\n', 'are the bones\\n', 'are the old\\n', 'because of unbelief.\\n', 'conquer the land.\\n', 'was the cause\\n', 'not the Anakims\\n', 'not the howling\\n', 'not the Jordan\\n', 'out of Canaan.\\n', 'years of journeying–they\\n', 'and the angel\\n', 'because of unbelief.\\n', 'have the worst\\n', 'The worst\\n', 'read of the\\n', 'to the tragedy\\n', 'day the Jew\\n', 'Because of unbelief.\\n', 'denizen of another\\n', 'in the crucified\\n', 'God of all\\n', 'observe the heinous\\n', 'is the sin\\n', 'in the calendar\\n', 'whether the man\\n', 'for the unbelief\\n', 'for the man\\n', 'guilty of every\\n', 'is the damning\\n', 'fiends of the\\n', 'are the chief\\n', 'with the PUNISHMENT.\\n', 'see the mercy\\n', 'land of Egypt.\\n', 'some of God’s\\n', 'out of the\\n', 'me.” Of course\\n', 'if the whole\\n', 'means of bitters\\n', 'eat the most\\n', 'But the real\\n', 'from the pulpit,\\n', 'not the quantity\\n', 'to the unconverted.\\n', 'works of God\\n', 'crowd of people\\n', 'at the preacher.\\n', 'find the majority\\n', 'in the wind.”\\n', 'in the front\\n', 'sense of his\\n', 'some of you\\n', 'times of revival\\n', 'the outpouring\\n', 'Sirs, the worst\\n', 'The last\\n', 'heard the bell\\n', 'The waves\\n', 'unto the Son\\n', 'pair of balances–just\\n', '“admired of all\\n', 'from the face.”\\n', 'from the face.”\\n', 'face of Jesus,\\n', 'on the right\\n', 'now, the mighty\\n', 'drags the devil,\\n', 'chant the solemn\\n', 'Mark the crown\\n', 'The marriage\\n', 'The good\\n', 'to the feast\\n', 'from the table–might\\n', 'rock, the vulture\\n', 'is the poor\\n', 'in the world\\n', 'dip the tip\\n', 'seeing the saints\\n', 'think of seeing\\n', 'accursed of God\\n', 'Oh, the Hell\\n', 'by the death\\n', 'be the bitterest\\n', 'see the place\\n', 'where the Lord\\n', 'worthy of our\\n', 'there the foot\\n', 'Calvary the interest\\n', 'when, the struggle\\n', 'from the tree,\\n', 'Joseph of Arimathea\\n', 'belts of spices,\\n', 'on the morning\\n', 'by the help\\n', 'say of the\\n', 'inviting all Christians\\n', 'see the place\\n', 'by the way.\\n', 'for the spiritual,\\n', 'to the heirs\\n', 'to the redeemed,\\n', 'use the utmost\\n', '‘tis the shrine\\n', 'hundreds of miles\\n', 'to the ancient\\n', 'shall the Christian\\n', 'me the greatest\\n', 'oil of gladness\\n', 'at the grave\\n', 'see the hallowed\\n', 'is the tomb\\n', 'The Jews\\n', 'garden of our\\n', 'to the grave\\n', 'not the sweet\\n', 'not the place\\n', 'but the power\\n', 'see the place\\n', 'see the place\\n', 'is the Lord\\n', 'said the seraph,\\n', 'when the angel\\n', 'One of them\\n', 'kissed the rocky\\n', 'are the porters\\n', 'to the death-place\\n', 'from the entrance.\\n', 'not the darkness\\n', 'with the vapors\\n', 'not the places\\n', 'smells of corruption.\\n', 'breathe the gales\\n', 'gather all your\\n', 'by the hand\\n', 'by the arm\\n', 'contiguity of shade”\\n', 'sick of this\\n', 'by the edge\\n', 'where the air\\n', 'man of the\\n', 'from the hum\\n', 'The noise\\n', 'see the place\\n', 'pressed the invitation–now\\n', 'by the spade\\n', 'made of marble,\\n', 'from the top\\n', 'rejected of men.\\n', 'Man of Sand\\n', 'Joseph, the councilor\\n', '“Let the Body\\n', 'enough of contumely,\\n', 'discern the meaning?\\n', 'over the top\\n', 'house of His\\n', 'upon the hospitality\\n', 'in the wide\\n', 'not the poor\\n', 'at the expense\\n', 'lo, the Son\\n', 'to the Lord–rather,\\n', 'transgressions of His\\n', 'took all my\\n', 'Concerning all His\\n', 'was the\\n', 'tomb of Joseph.\\n', 'The grave,\\n', 'The Rock\\n', 'which the disciples\\n', 'was the reason,\\n', 'The sepulcher\\n', 'The same\\n', 'into the sepulcher.\\n', 'sepulcher of marble\\n', 'before.” The reason\\n', 'in the place\\n', 'touched the Prophet’s\\n', 'where the Monarch\\n', 'leave the grave\\n', 'see the grave,\\n', 'are the grave-clothes\\n', 'The Jews\\n', 'stolen the clothes.\\n', 'thought of folding\\n', 'till the last\\n', 'at the appointed\\n', 'at the precise\\n', 'Then, the napkin,\\n', 'The grave-clothes\\n', 'The bed\\n', 'by the mourners\\n', 'shall all wear\\n', 'die, the napkin\\n', 'No, the Lord\\n', 'view the corpses\\n', 'from the upper\\n', 'When the child\\n', 'with the Christian.\\n', 'thing! The napkin\\n', 'surveyed the grave\\n', 'measure, of emotion.\\n', 'touch the strings\\n', 'of solemn\\n', 'see the place\\n', 'you the murderer–\\n', 'struck the dagger\\n', 'at the death\\n', 'approve of that\\n', 'is the Prince\\n', 'That the hands\\n', 'That the temples\\n', 'not the price\\n', 'in the attempt.\\n', 'by the side\\n', 'clutching the boy\\n', 'in the depths\\n', 'see the place\\n', 'see the tomb\\n', 'burst the bonds\\n', 'ungirt the cerements\\n', 'see the place\\n', 'see the place\\n', 'view the ground,\\n', 'spite of all\\n', 'The tall,\\n', 'made of dust\\n', 'yourself the moment\\n', 'some of you\\n', 'way of remembering\\n', 'think of the\\n', 'in the midst\\n', 'when the spirit\\n', 'is the strong\\n', 'pace the floor\\n', 'in the utmost\\n', 'The man\\n', 'and the spirit\\n', 'before the ransomed\\n', 'for the silent\\n', 'as the rest\\n', 'from the jaws\\n', 'think of it.\\n', 'heard of Queen\\n', 'read the despairing\\n', 'Yes, all that\\n', 'how the Sabbaths\\n', 'from the pangs\\n', 'see the place\\n', 'where the Lord\\n', 'The dead\\n', 'in the grave\\n', 'proof of Christ’s\\n', 'have the best\\n', 'if the Holy\\n', 'sign of your\\n', 'paid the debt,\\n', 'cancelled the entire\\n', 'Hear the rising\\n', 'from Heaven and\\n', 'the stone–but\\n', 'are the sinner\\n', 'have the sins\\n', 'debt of mine\\n', 'doctrine of the\\n', 'as the Lord\\n', 'portion of the\\n', 'The constituent\\n', 'at the blast\\n', 'The four\\n', 'still the same\\n', 'before the Throne\\n', 'The grave–what\\n', 'is the bath\\n', 'is the waiting\\n', 'is the place\\n', 'is the gate\\n', 'pass the stream\\n', 'Nicodemus, the night\\n', 'see the place\\n', 'but the story\\n', 'The picture\\n', 'kings of Orient\\n', 'know the names\\n', 'mention of that\\n', 'And the story\\n', 'brings the gold.\\n', 'carries the frankincense.\\n', 'brings the myrrh.\\n', 'it’s all embellishment\\n', 'None of it\\n', 'avoid the pitfall\\n', 'Jesus, the Christ-child.\\n', 'speaking of the\\n', 'them… The first\\n', 'Herod the Great\\n', 'was the only\\n', 'man of great\\n', 'some of his\\n', 'three of his\\n', 'when the three\\n', 'King of the\\n', 'The very\\n', 'for the mention\\n', 'by the over-reaction\\n', 'experience of church\\n', 'for the worst.\\n', 'The pain\\n', 'reject the claim\\n', 'The second\\n', 'one of apathy\\n', 'to the chief\\n', 'will the Messiah\\n', 'know the answer.\\n', 'studied the Scriptures.\\n', 'asked the questions.\\n', 'It’s all there\\n', 'quote the verse\\n', 'that’s all it\\n', 'in the next\\n', 'read of them\\n', 'nothing of the\\n', 'Herod the answer\\n', 'know the facts\\n', 'delivering the goods\\n', 'At the beginning\\n', 'The teachers\\n', 'is the way\\n', 'Gospel, of course.\\n', 'parable of the\\n', 'The story\\n', 'study the facts.\\n', 'journey of faith\\n', 'the stars\\n', 'that the only\\n', 'to the court\\n', 'into the presence\\n', 'part of their\\n', 'taking the experience\\n', 'for all of\\n', 'under the guidance\\n', 'in the response\\n', 'in the mind.\\n', 'to the Christ-child,\\n', 'us the way\\n', 'The way\\n', 'of the\\n', 'one of us\\n', 'like the chief\\n', 'like the visitors\\n', 'Jaroah Aven Cabul\\n']\n"
     ]
    }
   ],
   "source": [
    "with open('extracted_notes.txt', 'r', encoding='utf-8') as file:  \n",
    "    all_notes = file.readlines()  \n",
    "    print(all_notes)\n",
    "    cleaned_notes = []\n",
    "    for note in all_notes:\n",
    "        cleaned_words = [word for word in note.split() if word in marked_words]\n",
    "        cleaned_notes.extend(cleaned_words)\n",
    "\n",
    "# Remove duplicated notes\n",
    "cleaned_notes = list(set(cleaned_notes))\n",
    "\n",
    "\n",
    "with open('extracted_notes_2.txt', 'w', encoding='utf-8') as file:\n",
    "    for note in cleaned_notes:\n",
    "        file.write(note + '\\n')\n"
   ]
  },
  {
   "cell_type": "markdown",
   "metadata": {},
   "source": [
    "Sermons collections:\n",
    "https://www.thekingdomcollective.com/spurgeon/list/\n",
    "https://www.standrewsenfield.com\n"
   ]
  }
 ],
 "metadata": {
  "kernelspec": {
   "display_name": "Python 3",
   "language": "python",
   "name": "python3"
  },
  "language_info": {
   "codemirror_mode": {
    "name": "ipython",
    "version": 3
   },
   "file_extension": ".py",
   "mimetype": "text/x-python",
   "name": "python",
   "nbconvert_exporter": "python",
   "pygments_lexer": "ipython3",
   "version": "3.10.0"
  }
 },
 "nbformat": 4,
 "nbformat_minor": 2
}
